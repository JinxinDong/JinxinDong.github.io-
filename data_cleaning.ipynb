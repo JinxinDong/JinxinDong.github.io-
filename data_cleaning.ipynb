{
 "cells": [
  {
   "cell_type": "code",
   "execution_count": 1,
   "id": "a2459a0f",
   "metadata": {},
   "outputs": [],
   "source": [
    "import pandas as pd\n",
    "import numpy as np"
   ]
  },
  {
   "cell_type": "code",
   "execution_count": 2,
   "id": "4d7691bd",
   "metadata": {},
   "outputs": [],
   "source": [
    "exl_1 = pd.read_csv('202101-divvy-tripdata.csv')\n",
    "exl_2 = pd.read_csv('202102-divvy-tripdata.csv')\n",
    "exl_3 = pd.read_csv('202103-divvy-tripdata.csv')\n",
    "exl_4 = pd.read_csv('202104-divvy-tripdata.csv')\n",
    "exl_5 = pd.read_csv('202105-divvy-tripdata.csv')\n",
    "exl_6 = pd.read_csv('202106-divvy-tripdata.csv')\n",
    "exl_7 = pd.read_csv('202107-divvy-tripdata.csv')\n",
    "exl_8 = pd.read_csv('202108-divvy-tripdata.csv')\n",
    "exl_9 = pd.read_csv('202109-divvy-tripdata.csv')\n",
    "exl_10 = pd.read_csv('202110-divvy-tripdata.csv')\n",
    "exl_11 = pd.read_csv('202111-divvy-tripdata.csv')\n",
    "exl_12 = pd.read_csv('202112-divvy-tripdata.csv')"
   ]
  },
  {
   "cell_type": "code",
   "execution_count": 3,
   "id": "cace1c82",
   "metadata": {},
   "outputs": [],
   "source": [
    "exl = pd.concat([exl_1,exl_2,exl_3, exl_4,exl_5,exl_6, exl_7,exl_8,exl_9, exl_10,exl_11,exl_12], keys = ['01', '02', '03','04','05','06','07','08','09','10','11','12'] )"
   ]
  },
  {
   "cell_type": "code",
   "execution_count": 4,
   "id": "82adcba1",
   "metadata": {},
   "outputs": [
    {
     "name": "stdout",
     "output_type": "stream",
     "text": [
      "<class 'pandas.core.frame.DataFrame'>\n",
      "MultiIndex: 5595063 entries, ('01', 0) to ('12', 247539)\n",
      "Data columns (total 13 columns):\n",
      " #   Column              Dtype  \n",
      "---  ------              -----  \n",
      " 0   ride_id             object \n",
      " 1   rideable_type       object \n",
      " 2   started_at          object \n",
      " 3   ended_at            object \n",
      " 4   start_station_name  object \n",
      " 5   start_station_id    object \n",
      " 6   end_station_name    object \n",
      " 7   end_station_id      object \n",
      " 8   start_lat           float64\n",
      " 9   start_lng           float64\n",
      " 10  end_lat             float64\n",
      " 11  end_lng             float64\n",
      " 12  member_casual       object \n",
      "dtypes: float64(4), object(9)\n",
      "memory usage: 620.1+ MB\n"
     ]
    }
   ],
   "source": [
    "exl.info()"
   ]
  },
  {
   "cell_type": "code",
   "execution_count": 15,
   "id": "184c76d1",
   "metadata": {},
   "outputs": [
    {
     "data": {
      "text/html": [
       "<div>\n",
       "<style scoped>\n",
       "    .dataframe tbody tr th:only-of-type {\n",
       "        vertical-align: middle;\n",
       "    }\n",
       "\n",
       "    .dataframe tbody tr th {\n",
       "        vertical-align: top;\n",
       "    }\n",
       "\n",
       "    .dataframe thead th {\n",
       "        text-align: right;\n",
       "    }\n",
       "</style>\n",
       "<table border=\"1\" class=\"dataframe\">\n",
       "  <thead>\n",
       "    <tr style=\"text-align: right;\">\n",
       "      <th></th>\n",
       "      <th></th>\n",
       "      <th>ride_id</th>\n",
       "      <th>rideable_type</th>\n",
       "      <th>started_at</th>\n",
       "      <th>ended_at</th>\n",
       "      <th>start_station_name</th>\n",
       "      <th>start_station_id</th>\n",
       "      <th>end_station_name</th>\n",
       "      <th>end_station_id</th>\n",
       "      <th>start_lat</th>\n",
       "      <th>start_lng</th>\n",
       "      <th>end_lat</th>\n",
       "      <th>end_lng</th>\n",
       "      <th>member_casual</th>\n",
       "    </tr>\n",
       "  </thead>\n",
       "  <tbody>\n",
       "    <tr>\n",
       "      <th>01</th>\n",
       "      <th>30790</th>\n",
       "      <td>E46DA75E19B1856C</td>\n",
       "      <td>docked_bike</td>\n",
       "      <td>2021-01-13 18:18:21</td>\n",
       "      <td>2021-01-13 18:20:59</td>\n",
       "      <td>Glenwood Ave &amp; Morse Ave</td>\n",
       "      <td>KA1504000175</td>\n",
       "      <td>Glenwood Ave &amp; Touhy Ave</td>\n",
       "      <td>525</td>\n",
       "      <td>42.007971</td>\n",
       "      <td>-87.665502</td>\n",
       "      <td>42.012701</td>\n",
       "      <td>-87.666058</td>\n",
       "      <td>member</td>\n",
       "    </tr>\n",
       "  </tbody>\n",
       "</table>\n",
       "</div>"
      ],
      "text/plain": [
       "                   ride_id rideable_type           started_at  \\\n",
       "01 30790  E46DA75E19B1856C   docked_bike  2021-01-13 18:18:21   \n",
       "\n",
       "                     ended_at        start_station_name start_station_id  \\\n",
       "01 30790  2021-01-13 18:20:59  Glenwood Ave & Morse Ave     KA1504000175   \n",
       "\n",
       "                  end_station_name end_station_id  start_lat  start_lng  \\\n",
       "01 30790  Glenwood Ave & Touhy Ave            525  42.007971 -87.665502   \n",
       "\n",
       "            end_lat    end_lng member_casual  \n",
       "01 30790  42.012701 -87.666058        member  "
      ]
     },
     "execution_count": 15,
     "metadata": {},
     "output_type": "execute_result"
    }
   ],
   "source": [
    "exl[(exl['rideable_type'] == 'docked_bike') & (exl['member_casual'] == 'member')]"
   ]
  },
  {
   "cell_type": "code",
   "execution_count": 9,
   "id": "6db65884",
   "metadata": {},
   "outputs": [],
   "source": [
    "exl_n = exl.dropna().drop_duplicates()"
   ]
  },
  {
   "cell_type": "code",
   "execution_count": 11,
   "id": "6061edf3",
   "metadata": {},
   "outputs": [
    {
     "name": "stdout",
     "output_type": "stream",
     "text": [
      "<class 'pandas.core.frame.DataFrame'>\n",
      "MultiIndex: 4588302 entries, ('01', 9) to ('12', 247539)\n",
      "Data columns (total 13 columns):\n",
      " #   Column              Dtype  \n",
      "---  ------              -----  \n",
      " 0   ride_id             object \n",
      " 1   rideable_type       object \n",
      " 2   started_at          object \n",
      " 3   ended_at            object \n",
      " 4   start_station_name  object \n",
      " 5   start_station_id    object \n",
      " 6   end_station_name    object \n",
      " 7   end_station_id      object \n",
      " 8   start_lat           float64\n",
      " 9   start_lng           float64\n",
      " 10  end_lat             float64\n",
      " 11  end_lng             float64\n",
      " 12  member_casual       object \n",
      "dtypes: float64(4), object(9)\n",
      "memory usage: 515.5+ MB\n"
     ]
    }
   ],
   "source": [
    "exl_n.info()"
   ]
  },
  {
   "cell_type": "code",
   "execution_count": 12,
   "id": "6204849b",
   "metadata": {},
   "outputs": [],
   "source": [
    "def len_id(id):\n",
    "    if len(id) != 16:\n",
    "        return False\n",
    "        "
   ]
  },
  {
   "cell_type": "code",
   "execution_count": 16,
   "id": "ba4f5ee2",
   "metadata": {},
   "outputs": [
    {
     "data": {
      "text/plain": [
       "0"
      ]
     },
     "execution_count": 16,
     "metadata": {},
     "output_type": "execute_result"
    }
   ],
   "source": [
    "sum(exl_n['ride_id'].apply(lambda x: len_id(x)) == False)"
   ]
  },
  {
   "cell_type": "code",
   "execution_count": 18,
   "id": "30dfbe7c",
   "metadata": {},
   "outputs": [
    {
     "data": {
      "text/plain": [
       "str"
      ]
     },
     "execution_count": 18,
     "metadata": {},
     "output_type": "execute_result"
    }
   ],
   "source": [
    "type(exl_n['started_at'][0])"
   ]
  },
  {
   "cell_type": "code",
   "execution_count": 19,
   "id": "32a199c1",
   "metadata": {},
   "outputs": [],
   "source": [
    "exl_n['started_at'] = pd.to_datetime(exl_n['started_at'])"
   ]
  },
  {
   "cell_type": "code",
   "execution_count": 22,
   "id": "b25d7785",
   "metadata": {},
   "outputs": [],
   "source": [
    "exl_n['ended_at'] = pd.to_datetime(exl_n['ended_at'])"
   ]
  },
  {
   "cell_type": "code",
   "execution_count": 23,
   "id": "f97de344",
   "metadata": {},
   "outputs": [
    {
     "name": "stdout",
     "output_type": "stream",
     "text": [
      "<class 'pandas.core.frame.DataFrame'>\n",
      "MultiIndex: 4588302 entries, ('01', 9) to ('12', 247539)\n",
      "Data columns (total 13 columns):\n",
      " #   Column              Dtype         \n",
      "---  ------              -----         \n",
      " 0   ride_id             object        \n",
      " 1   rideable_type       object        \n",
      " 2   started_at          datetime64[ns]\n",
      " 3   ended_at            datetime64[ns]\n",
      " 4   start_station_name  object        \n",
      " 5   start_station_id    object        \n",
      " 6   end_station_name    object        \n",
      " 7   end_station_id      object        \n",
      " 8   start_lat           float64       \n",
      " 9   start_lng           float64       \n",
      " 10  end_lat             float64       \n",
      " 11  end_lng             float64       \n",
      " 12  member_casual       object        \n",
      "dtypes: datetime64[ns](2), float64(4), object(7)\n",
      "memory usage: 515.5+ MB\n"
     ]
    }
   ],
   "source": [
    "exl_n.info()"
   ]
  },
  {
   "cell_type": "code",
   "execution_count": 49,
   "id": "4bac86ae",
   "metadata": {},
   "outputs": [],
   "source": [
    "def time_check(x):\n",
    "    if x > 1 second:\n",
    "        return False\n",
    "    else:\n",
    "        return True"
   ]
  },
  {
   "cell_type": "code",
   "execution_count": 60,
   "id": "cac7813c",
   "metadata": {},
   "outputs": [],
   "source": [
    "Er_time_index = exl_n[(exl_n['ended_at'] < exl_n['started_at'])].index.tolist()"
   ]
  },
  {
   "cell_type": "code",
   "execution_count": 61,
   "id": "9fda5347",
   "metadata": {},
   "outputs": [
    {
     "data": {
      "text/plain": [
       "[('03', 39317),\n",
       " ('03', 120830),\n",
       " ('04', 22361),\n",
       " ('04', 292566),\n",
       " ('04', 292678),\n",
       " ('04', 293033),\n",
       " ('05', 313131),\n",
       " ('06', 15342),\n",
       " ('06', 69360),\n",
       " ('06', 571909),\n",
       " ('06', 728861),\n",
       " ('07', 72118),\n",
       " ('07', 72309),\n",
       " ('07', 72856),\n",
       " ('07', 133756),\n",
       " ('07', 206601),\n",
       " ('07', 206749),\n",
       " ('07', 207167),\n",
       " ('07', 207973),\n",
       " ('07', 216418),\n",
       " ('07', 447155),\n",
       " ('07', 451994),\n",
       " ('07', 452328),\n",
       " ('08', 35210),\n",
       " ('08', 70521),\n",
       " ('08', 176923),\n",
       " ('08', 176924),\n",
       " ('08', 224349),\n",
       " ('08', 279743),\n",
       " ('08', 280537),\n",
       " ('08', 358734),\n",
       " ('08', 358840),\n",
       " ('08', 358893),\n",
       " ('08', 358998),\n",
       " ('08', 358999),\n",
       " ('08', 359203),\n",
       " ('08', 359208),\n",
       " ('08', 359250),\n",
       " ('08', 359282),\n",
       " ('08', 359357),\n",
       " ('08', 359440),\n",
       " ('08', 359572),\n",
       " ('08', 359593),\n",
       " ('08', 359597),\n",
       " ('08', 489953),\n",
       " ('08', 571044),\n",
       " ('08', 681101),\n",
       " ('09', 8950),\n",
       " ('09', 49311),\n",
       " ('09', 69949),\n",
       " ('09', 82802),\n",
       " ('09', 139417),\n",
       " ('09', 167254),\n",
       " ('09', 175812),\n",
       " ('09', 241705),\n",
       " ('09', 241770),\n",
       " ('09', 255665),\n",
       " ('09', 311895),\n",
       " ('09', 317214),\n",
       " ('09', 330143),\n",
       " ('09', 334730),\n",
       " ('09', 355519),\n",
       " ('09', 388992),\n",
       " ('09', 405037),\n",
       " ('09', 408288),\n",
       " ('09', 409945),\n",
       " ('09', 435331),\n",
       " ('09', 458806),\n",
       " ('09', 458858),\n",
       " ('09', 459004),\n",
       " ('09', 459259),\n",
       " ('09', 461915),\n",
       " ('09', 528510),\n",
       " ('09', 549870),\n",
       " ('09', 557729),\n",
       " ('09', 583890),\n",
       " ('09', 626086),\n",
       " ('09', 631976),\n",
       " ('09', 709635),\n",
       " ('11', 10185),\n",
       " ('11', 11041),\n",
       " ('11', 12076),\n",
       " ('11', 23950),\n",
       " ('11', 29040),\n",
       " ('11', 35231),\n",
       " ('11', 36957),\n",
       " ('11', 38020),\n",
       " ('11', 39585),\n",
       " ('11', 42013),\n",
       " ('11', 49916),\n",
       " ('11', 62343),\n",
       " ('11', 62809),\n",
       " ('11', 63177),\n",
       " ('11', 69724),\n",
       " ('11', 104018),\n",
       " ('11', 110120),\n",
       " ('11', 111586),\n",
       " ('11', 117788),\n",
       " ('11', 117807),\n",
       " ('11', 118067),\n",
       " ('11', 119254),\n",
       " ('11', 123126),\n",
       " ('11', 125855),\n",
       " ('11', 138707),\n",
       " ('11', 142091),\n",
       " ('11', 148028),\n",
       " ('11', 176487),\n",
       " ('11', 179112),\n",
       " ('11', 242284),\n",
       " ('11', 250711),\n",
       " ('11', 253296),\n",
       " ('11', 253875),\n",
       " ('11', 260820),\n",
       " ('11', 280766),\n",
       " ('11', 282673),\n",
       " ('11', 283250)]"
      ]
     },
     "execution_count": 61,
     "metadata": {},
     "output_type": "execute_result"
    }
   ],
   "source": [
    "Er_time_index"
   ]
  },
  {
   "cell_type": "code",
   "execution_count": 62,
   "id": "fb7efde3",
   "metadata": {},
   "outputs": [],
   "source": [
    "exl_n = exl_n.drop(Er_time_index)"
   ]
  },
  {
   "cell_type": "code",
   "execution_count": 63,
   "id": "10b88b45",
   "metadata": {},
   "outputs": [
    {
     "name": "stdout",
     "output_type": "stream",
     "text": [
      "<class 'pandas.core.frame.DataFrame'>\n",
      "MultiIndex: 4588186 entries, ('01', 9) to ('12', 247539)\n",
      "Data columns (total 13 columns):\n",
      " #   Column              Dtype         \n",
      "---  ------              -----         \n",
      " 0   ride_id             object        \n",
      " 1   rideable_type       object        \n",
      " 2   started_at          datetime64[ns]\n",
      " 3   ended_at            datetime64[ns]\n",
      " 4   start_station_name  object        \n",
      " 5   start_station_id    object        \n",
      " 6   end_station_name    object        \n",
      " 7   end_station_id      object        \n",
      " 8   start_lat           float64       \n",
      " 9   start_lng           float64       \n",
      " 10  end_lat             float64       \n",
      " 11  end_lng             float64       \n",
      " 12  member_casual       object        \n",
      "dtypes: datetime64[ns](2), float64(4), object(7)\n",
      "memory usage: 515.5+ MB\n"
     ]
    }
   ],
   "source": [
    "exl_n.info()"
   ]
  },
  {
   "cell_type": "code",
   "execution_count": 66,
   "id": "186ce063",
   "metadata": {},
   "outputs": [
    {
     "data": {
      "text/plain": [
       "member    2539851\n",
       "casual    2048335\n",
       "Name: member_casual, dtype: int64"
      ]
     },
     "execution_count": 66,
     "metadata": {},
     "output_type": "execute_result"
    }
   ],
   "source": [
    "exl_n['member_casual'].value_counts()"
   ]
  },
  {
   "cell_type": "code",
   "execution_count": null,
   "id": "1857705c",
   "metadata": {},
   "outputs": [],
   "source": []
  },
  {
   "cell_type": "code",
   "execution_count": 67,
   "id": "1d270f39",
   "metadata": {},
   "outputs": [
    {
     "name": "stdout",
     "output_type": "stream",
     "text": [
      "<class 'pandas.core.frame.DataFrame'>\n",
      "MultiIndex: 4588186 entries, ('01', 9) to ('12', 247539)\n",
      "Data columns (total 13 columns):\n",
      " #   Column              Dtype         \n",
      "---  ------              -----         \n",
      " 0   ride_id             object        \n",
      " 1   rideable_type       object        \n",
      " 2   started_at          datetime64[ns]\n",
      " 3   ended_at            datetime64[ns]\n",
      " 4   start_station_name  object        \n",
      " 5   start_station_id    object        \n",
      " 6   end_station_name    object        \n",
      " 7   end_station_id      object        \n",
      " 8   start_lat           float64       \n",
      " 9   start_lng           float64       \n",
      " 10  end_lat             float64       \n",
      " 11  end_lng             float64       \n",
      " 12  member_casual       object        \n",
      "dtypes: datetime64[ns](2), float64(4), object(7)\n",
      "memory usage: 515.5+ MB\n"
     ]
    }
   ],
   "source": [
    "exl_n.info()"
   ]
  },
  {
   "cell_type": "code",
   "execution_count": 68,
   "id": "458b85fb",
   "metadata": {},
   "outputs": [
    {
     "data": {
      "text/plain": [
       "start_station_name\n",
       "2112 W Peterson Ave             1\n",
       "351                             1\n",
       "63rd St Beach                   1\n",
       "900 W Harrison St               1\n",
       "Aberdeen St & Jackson Blvd      1\n",
       "                               ..\n",
       "Woodlawn Ave & 55th St          1\n",
       "Woodlawn Ave & 75th St          1\n",
       "Woodlawn Ave & Lake Park Ave    1\n",
       "Yates Blvd & 75th St            1\n",
       "Yates Blvd & 93rd St            1\n",
       "Name: start_station_id, Length: 842, dtype: int64"
      ]
     },
     "execution_count": 68,
     "metadata": {},
     "output_type": "execute_result"
    }
   ],
   "source": [
    "exl_n.groupby('start_station_name')['start_station_id'].nunique()"
   ]
  },
  {
   "cell_type": "code",
   "execution_count": 72,
   "id": "59309081",
   "metadata": {},
   "outputs": [],
   "source": [
    "No = exl_n.groupby('start_station_name')['start_station_id'].nunique().tolist()"
   ]
  },
  {
   "cell_type": "code",
   "execution_count": 73,
   "id": "c6bb8287",
   "metadata": {},
   "outputs": [
    {
     "data": {
      "text/plain": [
       "842"
      ]
     },
     "execution_count": 73,
     "metadata": {},
     "output_type": "execute_result"
    }
   ],
   "source": [
    "len(No)"
   ]
  },
  {
   "cell_type": "code",
   "execution_count": 77,
   "id": "f9be74fa",
   "metadata": {},
   "outputs": [],
   "source": [
    "for i in range(len(No)):\n",
    "    if No[i] != 1:\n",
    "        i\n",
    "    "
   ]
  },
  {
   "cell_type": "code",
   "execution_count": 87,
   "id": "2ae36321",
   "metadata": {},
   "outputs": [],
   "source": [
    "No2 = exl_n.groupby('end_station_name')['end_station_id'].nunique().tolist()"
   ]
  },
  {
   "cell_type": "code",
   "execution_count": 89,
   "id": "0b996a4d",
   "metadata": {},
   "outputs": [
    {
     "data": {
      "text/plain": [
       "-1"
      ]
     },
     "execution_count": 89,
     "metadata": {},
     "output_type": "execute_result"
    }
   ],
   "source": [
    "len(No2) - sum(No2)"
   ]
  },
  {
   "cell_type": "code",
   "execution_count": null,
   "id": "c8e62298",
   "metadata": {},
   "outputs": [],
   "source": [
    "exl_n.to_csv('cleaned data.csv')"
   ]
  },
  {
   "cell_type": "code",
   "execution_count": null,
   "id": "3f10f692",
   "metadata": {},
   "outputs": [],
   "source": []
  }
 ],
 "metadata": {
  "kernelspec": {
   "display_name": "Python 3 (ipykernel)",
   "language": "python",
   "name": "python3"
  },
  "language_info": {
   "codemirror_mode": {
    "name": "ipython",
    "version": 3
   },
   "file_extension": ".py",
   "mimetype": "text/x-python",
   "name": "python",
   "nbconvert_exporter": "python",
   "pygments_lexer": "ipython3",
   "version": "3.9.1"
  }
 },
 "nbformat": 4,
 "nbformat_minor": 5
}
