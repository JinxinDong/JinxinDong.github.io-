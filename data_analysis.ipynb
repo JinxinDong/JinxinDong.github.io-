{
 "cells": [
  {
   "cell_type": "code",
   "execution_count": 1,
   "id": "ca45c10b",
   "metadata": {},
   "outputs": [],
   "source": [
    "import pandas as pd\n",
    "import numpy as np"
   ]
  },
  {
   "cell_type": "code",
   "execution_count": 2,
   "id": "62dd8e7a",
   "metadata": {},
   "outputs": [],
   "source": [
    "exl = pd.read_csv('cleaned data.csv')"
   ]
  },
  {
   "cell_type": "code",
   "execution_count": 3,
   "id": "9d8ce4af",
   "metadata": {},
   "outputs": [
    {
     "name": "stdout",
     "output_type": "stream",
     "text": [
      "<class 'pandas.core.frame.DataFrame'>\n",
      "RangeIndex: 4588186 entries, 0 to 4588185\n",
      "Data columns (total 15 columns):\n",
      " #   Column              Dtype  \n",
      "---  ------              -----  \n",
      " 0   Unnamed: 0          int64  \n",
      " 1   Unnamed: 1          int64  \n",
      " 2   ride_id             object \n",
      " 3   rideable_type       object \n",
      " 4   started_at          object \n",
      " 5   ended_at            object \n",
      " 6   start_station_name  object \n",
      " 7   start_station_id    object \n",
      " 8   end_station_name    object \n",
      " 9   end_station_id      object \n",
      " 10  start_lat           float64\n",
      " 11  start_lng           float64\n",
      " 12  end_lat             float64\n",
      " 13  end_lng             float64\n",
      " 14  member_casual       object \n",
      "dtypes: float64(4), int64(2), object(9)\n",
      "memory usage: 525.1+ MB\n"
     ]
    }
   ],
   "source": [
    "exl.info()"
   ]
  },
  {
   "cell_type": "code",
   "execution_count": 4,
   "id": "273a2052",
   "metadata": {},
   "outputs": [],
   "source": [
    "Da_mem = exl[exl['member_casual'] == 'member']"
   ]
  },
  {
   "cell_type": "code",
   "execution_count": 5,
   "id": "025ccf66",
   "metadata": {},
   "outputs": [],
   "source": [
    "Da_cau = exl[exl['member_casual'] == 'casual']"
   ]
  },
  {
   "cell_type": "code",
   "execution_count": 6,
   "id": "74efda46",
   "metadata": {},
   "outputs": [
    {
     "data": {
      "text/html": [
       "<div>\n",
       "<style scoped>\n",
       "    .dataframe tbody tr th:only-of-type {\n",
       "        vertical-align: middle;\n",
       "    }\n",
       "\n",
       "    .dataframe tbody tr th {\n",
       "        vertical-align: top;\n",
       "    }\n",
       "\n",
       "    .dataframe thead th {\n",
       "        text-align: right;\n",
       "    }\n",
       "</style>\n",
       "<table border=\"1\" class=\"dataframe\">\n",
       "  <thead>\n",
       "    <tr style=\"text-align: right;\">\n",
       "      <th></th>\n",
       "      <th>Unnamed: 0</th>\n",
       "      <th>Unnamed: 1</th>\n",
       "      <th>ride_id</th>\n",
       "      <th>rideable_type</th>\n",
       "      <th>started_at</th>\n",
       "      <th>ended_at</th>\n",
       "      <th>start_station_name</th>\n",
       "      <th>start_station_id</th>\n",
       "      <th>end_station_name</th>\n",
       "      <th>end_station_id</th>\n",
       "      <th>start_lat</th>\n",
       "      <th>start_lng</th>\n",
       "      <th>end_lat</th>\n",
       "      <th>end_lng</th>\n",
       "      <th>member_casual</th>\n",
       "    </tr>\n",
       "  </thead>\n",
       "  <tbody>\n",
       "    <tr>\n",
       "      <th>0</th>\n",
       "      <td>1</td>\n",
       "      <td>9</td>\n",
       "      <td>B9F73448DFBE0D45</td>\n",
       "      <td>classic_bike</td>\n",
       "      <td>2021-01-24 19:15:38</td>\n",
       "      <td>2021-01-24 19:22:51</td>\n",
       "      <td>California Ave &amp; Cortez St</td>\n",
       "      <td>17660</td>\n",
       "      <td>Wood St &amp; Augusta Blvd</td>\n",
       "      <td>657</td>\n",
       "      <td>41.900363</td>\n",
       "      <td>-87.696704</td>\n",
       "      <td>41.899181</td>\n",
       "      <td>-87.672200</td>\n",
       "      <td>member</td>\n",
       "    </tr>\n",
       "    <tr>\n",
       "      <th>1</th>\n",
       "      <td>1</td>\n",
       "      <td>10</td>\n",
       "      <td>457C7F4B5D3DA135</td>\n",
       "      <td>electric_bike</td>\n",
       "      <td>2021-01-23 12:57:38</td>\n",
       "      <td>2021-01-23 13:02:10</td>\n",
       "      <td>California Ave &amp; Cortez St</td>\n",
       "      <td>17660</td>\n",
       "      <td>California Ave &amp; North Ave</td>\n",
       "      <td>13258</td>\n",
       "      <td>41.900406</td>\n",
       "      <td>-87.696733</td>\n",
       "      <td>41.910435</td>\n",
       "      <td>-87.696890</td>\n",
       "      <td>member</td>\n",
       "    </tr>\n",
       "    <tr>\n",
       "      <th>5</th>\n",
       "      <td>1</td>\n",
       "      <td>14</td>\n",
       "      <td>49FCE1F8598F12C6</td>\n",
       "      <td>electric_bike</td>\n",
       "      <td>2021-01-22 15:15:28</td>\n",
       "      <td>2021-01-22 15:36:01</td>\n",
       "      <td>California Ave &amp; Cortez St</td>\n",
       "      <td>17660</td>\n",
       "      <td>Wells St &amp; Elm St</td>\n",
       "      <td>KA1504000135</td>\n",
       "      <td>41.900373</td>\n",
       "      <td>-87.696790</td>\n",
       "      <td>41.903272</td>\n",
       "      <td>-87.634457</td>\n",
       "      <td>member</td>\n",
       "    </tr>\n",
       "    <tr>\n",
       "      <th>6</th>\n",
       "      <td>1</td>\n",
       "      <td>15</td>\n",
       "      <td>0FEED5C2C8749A1C</td>\n",
       "      <td>classic_bike</td>\n",
       "      <td>2021-01-05 10:33:12</td>\n",
       "      <td>2021-01-05 10:39:12</td>\n",
       "      <td>California Ave &amp; Cortez St</td>\n",
       "      <td>17660</td>\n",
       "      <td>Sacramento Blvd &amp; Franklin Blvd</td>\n",
       "      <td>KA1504000113</td>\n",
       "      <td>41.900363</td>\n",
       "      <td>-87.696704</td>\n",
       "      <td>41.890469</td>\n",
       "      <td>-87.702608</td>\n",
       "      <td>member</td>\n",
       "    </tr>\n",
       "    <tr>\n",
       "      <th>7</th>\n",
       "      <td>1</td>\n",
       "      <td>16</td>\n",
       "      <td>E276FD43BDED6420</td>\n",
       "      <td>classic_bike</td>\n",
       "      <td>2021-01-30 11:59:16</td>\n",
       "      <td>2021-01-30 12:03:44</td>\n",
       "      <td>California Ave &amp; Cortez St</td>\n",
       "      <td>17660</td>\n",
       "      <td>Western Ave &amp; Walton St</td>\n",
       "      <td>KA1504000103</td>\n",
       "      <td>41.900363</td>\n",
       "      <td>-87.696704</td>\n",
       "      <td>41.898418</td>\n",
       "      <td>-87.686596</td>\n",
       "      <td>member</td>\n",
       "    </tr>\n",
       "  </tbody>\n",
       "</table>\n",
       "</div>"
      ],
      "text/plain": [
       "   Unnamed: 0  Unnamed: 1           ride_id  rideable_type  \\\n",
       "0           1           9  B9F73448DFBE0D45   classic_bike   \n",
       "1           1          10  457C7F4B5D3DA135  electric_bike   \n",
       "5           1          14  49FCE1F8598F12C6  electric_bike   \n",
       "6           1          15  0FEED5C2C8749A1C   classic_bike   \n",
       "7           1          16  E276FD43BDED6420   classic_bike   \n",
       "\n",
       "            started_at             ended_at          start_station_name  \\\n",
       "0  2021-01-24 19:15:38  2021-01-24 19:22:51  California Ave & Cortez St   \n",
       "1  2021-01-23 12:57:38  2021-01-23 13:02:10  California Ave & Cortez St   \n",
       "5  2021-01-22 15:15:28  2021-01-22 15:36:01  California Ave & Cortez St   \n",
       "6  2021-01-05 10:33:12  2021-01-05 10:39:12  California Ave & Cortez St   \n",
       "7  2021-01-30 11:59:16  2021-01-30 12:03:44  California Ave & Cortez St   \n",
       "\n",
       "  start_station_id                 end_station_name end_station_id  start_lat  \\\n",
       "0            17660           Wood St & Augusta Blvd            657  41.900363   \n",
       "1            17660       California Ave & North Ave          13258  41.900406   \n",
       "5            17660                Wells St & Elm St   KA1504000135  41.900373   \n",
       "6            17660  Sacramento Blvd & Franklin Blvd   KA1504000113  41.900363   \n",
       "7            17660          Western Ave & Walton St   KA1504000103  41.900363   \n",
       "\n",
       "   start_lng    end_lat    end_lng member_casual  \n",
       "0 -87.696704  41.899181 -87.672200        member  \n",
       "1 -87.696733  41.910435 -87.696890        member  \n",
       "5 -87.696790  41.903272 -87.634457        member  \n",
       "6 -87.696704  41.890469 -87.702608        member  \n",
       "7 -87.696704  41.898418 -87.686596        member  "
      ]
     },
     "execution_count": 6,
     "metadata": {},
     "output_type": "execute_result"
    }
   ],
   "source": [
    "Da_mem.head()"
   ]
  },
  {
   "cell_type": "code",
   "execution_count": 9,
   "id": "1e14ca26",
   "metadata": {},
   "outputs": [
    {
     "data": {
      "text/plain": [
       "rideable_type\n",
       "classic_bike     1980374\n",
       "docked_bike            1\n",
       "electric_bike     559476\n",
       "Name: rideable_type, dtype: int64"
      ]
     },
     "execution_count": 9,
     "metadata": {},
     "output_type": "execute_result"
    }
   ],
   "source": [
    "Da_mem.groupby('rideable_type')['rideable_type'].count()"
   ]
  },
  {
   "cell_type": "code",
   "execution_count": 10,
   "id": "31dc2536",
   "metadata": {},
   "outputs": [
    {
     "data": {
      "text/plain": [
       "rideable_type\n",
       "classic_bike     1261530\n",
       "docked_bike       312043\n",
       "electric_bike     474762\n",
       "Name: rideable_type, dtype: int64"
      ]
     },
     "execution_count": 10,
     "metadata": {},
     "output_type": "execute_result"
    }
   ],
   "source": [
    "Da_cau.groupby('rideable_type')['rideable_type'].count()"
   ]
  },
  {
   "cell_type": "code",
   "execution_count": 14,
   "id": "afdd6008",
   "metadata": {},
   "outputs": [
    {
     "data": {
      "text/plain": [
       "2539851"
      ]
     },
     "execution_count": 14,
     "metadata": {},
     "output_type": "execute_result"
    }
   ],
   "source": [
    "sum(Da_mem.groupby('ride_id')['ride_id'].nunique())"
   ]
  },
  {
   "cell_type": "code",
   "execution_count": 15,
   "id": "f51c4a72",
   "metadata": {},
   "outputs": [
    {
     "data": {
      "text/plain": [
       "2048335"
      ]
     },
     "execution_count": 15,
     "metadata": {},
     "output_type": "execute_result"
    }
   ],
   "source": [
    "sum(Da_cau.groupby('ride_id')['ride_id'].nunique())"
   ]
  },
  {
   "cell_type": "code",
   "execution_count": 16,
   "id": "c58c8b85",
   "metadata": {},
   "outputs": [
    {
     "data": {
      "text/plain": [
       "Unnamed: 0            2539851\n",
       "Unnamed: 1            2539851\n",
       "ride_id               2539851\n",
       "rideable_type         2539851\n",
       "started_at            2539851\n",
       "ended_at              2539851\n",
       "start_station_name    2539851\n",
       "start_station_id      2539851\n",
       "end_station_name      2539851\n",
       "end_station_id        2539851\n",
       "start_lat             2539851\n",
       "start_lng             2539851\n",
       "end_lat               2539851\n",
       "end_lng               2539851\n",
       "member_casual         2539851\n",
       "dtype: int64"
      ]
     },
     "execution_count": 16,
     "metadata": {},
     "output_type": "execute_result"
    }
   ],
   "source": [
    "Da_mem.count()"
   ]
  },
  {
   "cell_type": "code",
   "execution_count": 21,
   "id": "eb62ae90",
   "metadata": {},
   "outputs": [
    {
     "name": "stderr",
     "output_type": "stream",
     "text": [
      "C:\\Users\\JINXIN~1\\AppData\\Local\\Temp/ipykernel_42816/3251970627.py:1: SettingWithCopyWarning: \n",
      "A value is trying to be set on a copy of a slice from a DataFrame.\n",
      "Try using .loc[row_indexer,col_indexer] = value instead\n",
      "\n",
      "See the caveats in the documentation: https://pandas.pydata.org/pandas-docs/stable/user_guide/indexing.html#returning-a-view-versus-a-copy\n",
      "  Da_mem['started_at'] = pd.to_datetime(Da_mem['started_at'])\n"
     ]
    }
   ],
   "source": [
    "Da_mem['started_at'] = pd.to_datetime(Da_mem['started_at'])"
   ]
  },
  {
   "cell_type": "code",
   "execution_count": 22,
   "id": "24c871e4",
   "metadata": {},
   "outputs": [
    {
     "name": "stderr",
     "output_type": "stream",
     "text": [
      "C:\\Users\\JINXIN~1\\AppData\\Local\\Temp/ipykernel_42816/1803345915.py:1: SettingWithCopyWarning: \n",
      "A value is trying to be set on a copy of a slice from a DataFrame.\n",
      "Try using .loc[row_indexer,col_indexer] = value instead\n",
      "\n",
      "See the caveats in the documentation: https://pandas.pydata.org/pandas-docs/stable/user_guide/indexing.html#returning-a-view-versus-a-copy\n",
      "  Da_mem['ended_at'] = pd.to_datetime(Da_mem['ended_at'])\n"
     ]
    }
   ],
   "source": [
    "Da_mem['ended_at'] = pd.to_datetime(Da_mem['ended_at'])"
   ]
  },
  {
   "cell_type": "code",
   "execution_count": 23,
   "id": "d2169c1b",
   "metadata": {},
   "outputs": [
    {
     "name": "stderr",
     "output_type": "stream",
     "text": [
      "C:\\Users\\JINXIN~1\\AppData\\Local\\Temp/ipykernel_42816/905328328.py:1: SettingWithCopyWarning: \n",
      "A value is trying to be set on a copy of a slice from a DataFrame.\n",
      "Try using .loc[row_indexer,col_indexer] = value instead\n",
      "\n",
      "See the caveats in the documentation: https://pandas.pydata.org/pandas-docs/stable/user_guide/indexing.html#returning-a-view-versus-a-copy\n",
      "  Da_mem['year_s'] = Da_mem['started_at'].dt.year\n"
     ]
    }
   ],
   "source": [
    "Da_mem['year_s'] = Da_mem['started_at'].dt.year"
   ]
  },
  {
   "cell_type": "code",
   "execution_count": 25,
   "id": "1033a4dc",
   "metadata": {},
   "outputs": [
    {
     "name": "stderr",
     "output_type": "stream",
     "text": [
      "C:\\Users\\JINXIN~1\\AppData\\Local\\Temp/ipykernel_42816/1114616021.py:1: SettingWithCopyWarning: \n",
      "A value is trying to be set on a copy of a slice from a DataFrame.\n",
      "Try using .loc[row_indexer,col_indexer] = value instead\n",
      "\n",
      "See the caveats in the documentation: https://pandas.pydata.org/pandas-docs/stable/user_guide/indexing.html#returning-a-view-versus-a-copy\n",
      "  Da_mem['mon_s'] = Da_mem['started_at'].dt.month\n"
     ]
    }
   ],
   "source": [
    "Da_mem['mon_s'] = Da_mem['started_at'].dt.month"
   ]
  },
  {
   "cell_type": "code",
   "execution_count": 27,
   "id": "453a4257",
   "metadata": {},
   "outputs": [
    {
     "name": "stdout",
     "output_type": "stream",
     "text": [
      "<class 'pandas.core.frame.DataFrame'>\n",
      "Int64Index: 2539851 entries, 0 to 4588185\n",
      "Data columns (total 17 columns):\n",
      " #   Column              Dtype         \n",
      "---  ------              -----         \n",
      " 0   Unnamed: 0          int64         \n",
      " 1   Unnamed: 1          int64         \n",
      " 2   ride_id             object        \n",
      " 3   rideable_type       object        \n",
      " 4   started_at          datetime64[ns]\n",
      " 5   ended_at            datetime64[ns]\n",
      " 6   start_station_name  object        \n",
      " 7   start_station_id    object        \n",
      " 8   end_station_name    object        \n",
      " 9   end_station_id      object        \n",
      " 10  start_lat           float64       \n",
      " 11  start_lng           float64       \n",
      " 12  end_lat             float64       \n",
      " 13  end_lng             float64       \n",
      " 14  member_casual       object        \n",
      " 15  year_s              int64         \n",
      " 16  mon_s               int64         \n",
      "dtypes: datetime64[ns](2), float64(4), int64(4), object(7)\n",
      "memory usage: 348.8+ MB\n"
     ]
    }
   ],
   "source": [
    "Da_mem.info()"
   ]
  },
  {
   "cell_type": "code",
   "execution_count": 30,
   "id": "78f34e5c",
   "metadata": {},
   "outputs": [
    {
     "data": {
      "text/plain": [
       "year_s  mon_s\n",
       "2021    1         68819\n",
       "        2         34383\n",
       "        3        130048\n",
       "        4        177783\n",
       "        5        234164\n",
       "        6        304585\n",
       "        7        322902\n",
       "        8        332916\n",
       "        9        328192\n",
       "        10       288855\n",
       "        11       185909\n",
       "        12       131295\n",
       "Name: ride_id, dtype: int64"
      ]
     },
     "execution_count": 30,
     "metadata": {},
     "output_type": "execute_result"
    }
   ],
   "source": [
    "Da_mem.groupby(['year_s','mon_s'])['ride_id'].nunique()"
   ]
  },
  {
   "cell_type": "code",
   "execution_count": 32,
   "id": "2132037b",
   "metadata": {},
   "outputs": [
    {
     "name": "stderr",
     "output_type": "stream",
     "text": [
      "C:\\Users\\JINXIN~1\\AppData\\Local\\Temp/ipykernel_42816/317580213.py:1: FutureWarning: Indexing with multiple keys (implicitly converted to a tuple of keys) will be deprecated, use a list instead.\n",
      "  Da_mem.groupby(['year_s','mon_s'])['year_s','mon_s'].nunique()\n"
     ]
    },
    {
     "data": {
      "text/html": [
       "<div>\n",
       "<style scoped>\n",
       "    .dataframe tbody tr th:only-of-type {\n",
       "        vertical-align: middle;\n",
       "    }\n",
       "\n",
       "    .dataframe tbody tr th {\n",
       "        vertical-align: top;\n",
       "    }\n",
       "\n",
       "    .dataframe thead th {\n",
       "        text-align: right;\n",
       "    }\n",
       "</style>\n",
       "<table border=\"1\" class=\"dataframe\">\n",
       "  <thead>\n",
       "    <tr style=\"text-align: right;\">\n",
       "      <th></th>\n",
       "      <th></th>\n",
       "      <th>year_s</th>\n",
       "      <th>mon_s</th>\n",
       "    </tr>\n",
       "    <tr>\n",
       "      <th>year_s</th>\n",
       "      <th>mon_s</th>\n",
       "      <th></th>\n",
       "      <th></th>\n",
       "    </tr>\n",
       "  </thead>\n",
       "  <tbody>\n",
       "    <tr>\n",
       "      <th rowspan=\"12\" valign=\"top\">2021</th>\n",
       "      <th>1</th>\n",
       "      <td>1</td>\n",
       "      <td>1</td>\n",
       "    </tr>\n",
       "    <tr>\n",
       "      <th>2</th>\n",
       "      <td>1</td>\n",
       "      <td>1</td>\n",
       "    </tr>\n",
       "    <tr>\n",
       "      <th>3</th>\n",
       "      <td>1</td>\n",
       "      <td>1</td>\n",
       "    </tr>\n",
       "    <tr>\n",
       "      <th>4</th>\n",
       "      <td>1</td>\n",
       "      <td>1</td>\n",
       "    </tr>\n",
       "    <tr>\n",
       "      <th>5</th>\n",
       "      <td>1</td>\n",
       "      <td>1</td>\n",
       "    </tr>\n",
       "    <tr>\n",
       "      <th>6</th>\n",
       "      <td>1</td>\n",
       "      <td>1</td>\n",
       "    </tr>\n",
       "    <tr>\n",
       "      <th>7</th>\n",
       "      <td>1</td>\n",
       "      <td>1</td>\n",
       "    </tr>\n",
       "    <tr>\n",
       "      <th>8</th>\n",
       "      <td>1</td>\n",
       "      <td>1</td>\n",
       "    </tr>\n",
       "    <tr>\n",
       "      <th>9</th>\n",
       "      <td>1</td>\n",
       "      <td>1</td>\n",
       "    </tr>\n",
       "    <tr>\n",
       "      <th>10</th>\n",
       "      <td>1</td>\n",
       "      <td>1</td>\n",
       "    </tr>\n",
       "    <tr>\n",
       "      <th>11</th>\n",
       "      <td>1</td>\n",
       "      <td>1</td>\n",
       "    </tr>\n",
       "    <tr>\n",
       "      <th>12</th>\n",
       "      <td>1</td>\n",
       "      <td>1</td>\n",
       "    </tr>\n",
       "  </tbody>\n",
       "</table>\n",
       "</div>"
      ],
      "text/plain": [
       "              year_s  mon_s\n",
       "year_s mon_s               \n",
       "2021   1           1      1\n",
       "       2           1      1\n",
       "       3           1      1\n",
       "       4           1      1\n",
       "       5           1      1\n",
       "       6           1      1\n",
       "       7           1      1\n",
       "       8           1      1\n",
       "       9           1      1\n",
       "       10          1      1\n",
       "       11          1      1\n",
       "       12          1      1"
      ]
     },
     "execution_count": 32,
     "metadata": {},
     "output_type": "execute_result"
    }
   ],
   "source": [
    "Da_mem.groupby(['year_s','mon_s'])['year_s','mon_s'].nunique()"
   ]
  },
  {
   "cell_type": "code",
   "execution_count": 33,
   "id": "1874808d",
   "metadata": {},
   "outputs": [
    {
     "name": "stderr",
     "output_type": "stream",
     "text": [
      "C:\\Users\\JINXIN~1\\AppData\\Local\\Temp/ipykernel_42816/1941987266.py:1: SettingWithCopyWarning: \n",
      "A value is trying to be set on a copy of a slice from a DataFrame.\n",
      "Try using .loc[row_indexer,col_indexer] = value instead\n",
      "\n",
      "See the caveats in the documentation: https://pandas.pydata.org/pandas-docs/stable/user_guide/indexing.html#returning-a-view-versus-a-copy\n",
      "  Da_cau['started_at'] = pd.to_datetime(Da_cau['started_at'])\n",
      "C:\\Users\\JINXIN~1\\AppData\\Local\\Temp/ipykernel_42816/1941987266.py:2: SettingWithCopyWarning: \n",
      "A value is trying to be set on a copy of a slice from a DataFrame.\n",
      "Try using .loc[row_indexer,col_indexer] = value instead\n",
      "\n",
      "See the caveats in the documentation: https://pandas.pydata.org/pandas-docs/stable/user_guide/indexing.html#returning-a-view-versus-a-copy\n",
      "  Da_cau['ended_at'] = pd.to_datetime(Da_cau['ended_at'])\n",
      "C:\\Users\\JINXIN~1\\AppData\\Local\\Temp/ipykernel_42816/1941987266.py:3: SettingWithCopyWarning: \n",
      "A value is trying to be set on a copy of a slice from a DataFrame.\n",
      "Try using .loc[row_indexer,col_indexer] = value instead\n",
      "\n",
      "See the caveats in the documentation: https://pandas.pydata.org/pandas-docs/stable/user_guide/indexing.html#returning-a-view-versus-a-copy\n",
      "  Da_cau['year_s'] = Da_cau['started_at'].dt.year\n",
      "C:\\Users\\JINXIN~1\\AppData\\Local\\Temp/ipykernel_42816/1941987266.py:4: SettingWithCopyWarning: \n",
      "A value is trying to be set on a copy of a slice from a DataFrame.\n",
      "Try using .loc[row_indexer,col_indexer] = value instead\n",
      "\n",
      "See the caveats in the documentation: https://pandas.pydata.org/pandas-docs/stable/user_guide/indexing.html#returning-a-view-versus-a-copy\n",
      "  Da_cau['mon_s'] = Da_cau['started_at'].dt.month\n"
     ]
    }
   ],
   "source": [
    "Da_cau['started_at'] = pd.to_datetime(Da_cau['started_at'])\n",
    "Da_cau['ended_at'] = pd.to_datetime(Da_cau['ended_at'])\n",
    "Da_cau['year_s'] = Da_cau['started_at'].dt.year\n",
    "Da_cau['mon_s'] = Da_cau['started_at'].dt.month\n"
   ]
  },
  {
   "cell_type": "code",
   "execution_count": 35,
   "id": "0462ceb8",
   "metadata": {},
   "outputs": [
    {
     "data": {
      "text/plain": [
       "[14690,\n",
       " 8613,\n",
       " 75641,\n",
       " 120420,\n",
       " 216829,\n",
       " 304189,\n",
       " 369407,\n",
       " 341469,\n",
       " 292926,\n",
       " 189117,\n",
       " 69958,\n",
       " 45076]"
      ]
     },
     "execution_count": 35,
     "metadata": {},
     "output_type": "execute_result"
    }
   ],
   "source": [
    "Da_cau.groupby(['year_s','mon_s'])['ride_id'].nunique().tolist()"
   ]
  },
  {
   "cell_type": "code",
   "execution_count": 36,
   "id": "1dbbd771",
   "metadata": {},
   "outputs": [
    {
     "name": "stderr",
     "output_type": "stream",
     "text": [
      "C:\\Users\\JINXIN~1\\AppData\\Local\\Temp/ipykernel_42816/2312548054.py:1: SettingWithCopyWarning: \n",
      "A value is trying to be set on a copy of a slice from a DataFrame.\n",
      "Try using .loc[row_indexer,col_indexer] = value instead\n",
      "\n",
      "See the caveats in the documentation: https://pandas.pydata.org/pandas-docs/stable/user_guide/indexing.html#returning-a-view-versus-a-copy\n",
      "  Da_mem['time_use'] = Da_mem['ended_at'] - Da_mem['started_at']\n"
     ]
    }
   ],
   "source": [
    "Da_mem['time_use'] = Da_mem['ended_at'] - Da_mem['started_at']"
   ]
  },
  {
   "cell_type": "code",
   "execution_count": 37,
   "id": "718da56b",
   "metadata": {},
   "outputs": [
    {
     "name": "stdout",
     "output_type": "stream",
     "text": [
      "<class 'pandas.core.frame.DataFrame'>\n",
      "Int64Index: 2539851 entries, 0 to 4588185\n",
      "Data columns (total 18 columns):\n",
      " #   Column              Dtype          \n",
      "---  ------              -----          \n",
      " 0   Unnamed: 0          int64          \n",
      " 1   Unnamed: 1          int64          \n",
      " 2   ride_id             object         \n",
      " 3   rideable_type       object         \n",
      " 4   started_at          datetime64[ns] \n",
      " 5   ended_at            datetime64[ns] \n",
      " 6   start_station_name  object         \n",
      " 7   start_station_id    object         \n",
      " 8   end_station_name    object         \n",
      " 9   end_station_id      object         \n",
      " 10  start_lat           float64        \n",
      " 11  start_lng           float64        \n",
      " 12  end_lat             float64        \n",
      " 13  end_lng             float64        \n",
      " 14  member_casual       object         \n",
      " 15  year_s              int64          \n",
      " 16  mon_s               int64          \n",
      " 17  time_use            timedelta64[ns]\n",
      "dtypes: datetime64[ns](2), float64(4), int64(4), object(7), timedelta64[ns](1)\n",
      "memory usage: 368.2+ MB\n"
     ]
    }
   ],
   "source": [
    "Da_mem.info()"
   ]
  },
  {
   "cell_type": "code",
   "execution_count": 44,
   "id": "bb8b7a50",
   "metadata": {},
   "outputs": [
    {
     "data": {
      "text/plain": [
       "year_s  mon_s\n",
       "2021    1        574 days 23:18:30\n",
       "        2        352 days 21:52:27\n",
       "        3       1234 days 02:37:32\n",
       "        4       1760 days 21:49:08\n",
       "        5       2332 days 10:53:41\n",
       "        6       2990 days 19:22:36\n",
       "        7       3092 days 11:05:54\n",
       "        8       3133 days 07:20:18\n",
       "        9       2992 days 16:52:20\n",
       "        10      2410 days 00:37:26\n",
       "        11      1413 days 21:15:13\n",
       "        12       964 days 18:26:27\n",
       "Name: time_use, dtype: timedelta64[ns]"
      ]
     },
     "execution_count": 44,
     "metadata": {},
     "output_type": "execute_result"
    }
   ],
   "source": [
    "Da_mem.groupby(['year_s','mon_s'])['time_use'].sum()"
   ]
  },
  {
   "cell_type": "code",
   "execution_count": 45,
   "id": "720a4b2d",
   "metadata": {},
   "outputs": [
    {
     "name": "stderr",
     "output_type": "stream",
     "text": [
      "C:\\Users\\JINXIN~1\\AppData\\Local\\Temp/ipykernel_42816/2965737217.py:1: SettingWithCopyWarning: \n",
      "A value is trying to be set on a copy of a slice from a DataFrame.\n",
      "Try using .loc[row_indexer,col_indexer] = value instead\n",
      "\n",
      "See the caveats in the documentation: https://pandas.pydata.org/pandas-docs/stable/user_guide/indexing.html#returning-a-view-versus-a-copy\n",
      "  Da_cau['time_use'] = Da_cau['ended_at'] - Da_cau['started_at']\n"
     ]
    }
   ],
   "source": [
    "Da_cau['time_use'] = Da_cau['ended_at'] - Da_cau['started_at']"
   ]
  },
  {
   "cell_type": "code",
   "execution_count": 46,
   "id": "69d2ff10",
   "metadata": {},
   "outputs": [
    {
     "data": {
      "text/plain": [
       "year_s  mon_s\n",
       "2021    1        269 days 00:15:21\n",
       "        2        281 days 22:32:00\n",
       "        3       2021 days 07:42:13\n",
       "        4       3214 days 15:15:02\n",
       "        5       5967 days 23:08:49\n",
       "        6       8136 days 23:36:56\n",
       "        7       8538 days 18:13:37\n",
       "        8       6773 days 10:17:55\n",
       "        9       5713 days 16:05:17\n",
       "        10      3455 days 20:26:43\n",
       "        11      1092 days 06:07:29\n",
       "        12       777 days 15:46:27\n",
       "Name: time_use, dtype: timedelta64[ns]"
      ]
     },
     "execution_count": 46,
     "metadata": {},
     "output_type": "execute_result"
    }
   ],
   "source": [
    "Da_cau.groupby(['year_s','mon_s'])['time_use'].sum()"
   ]
  },
  {
   "cell_type": "code",
   "execution_count": 47,
   "id": "a797d6f3",
   "metadata": {},
   "outputs": [
    {
     "name": "stderr",
     "output_type": "stream",
     "text": [
      "C:\\Users\\JINXIN~1\\AppData\\Local\\Temp/ipykernel_42816/518315058.py:1: SettingWithCopyWarning: \n",
      "A value is trying to be set on a copy of a slice from a DataFrame.\n",
      "Try using .loc[row_indexer,col_indexer] = value instead\n",
      "\n",
      "See the caveats in the documentation: https://pandas.pydata.org/pandas-docs/stable/user_guide/indexing.html#returning-a-view-versus-a-copy\n",
      "  Da_mem['hour_s'] = Da_mem['started_at'].dt.hour\n"
     ]
    }
   ],
   "source": [
    "Da_mem['hour_s'] = Da_mem['started_at'].dt.hour"
   ]
  },
  {
   "cell_type": "code",
   "execution_count": 49,
   "id": "54e5a5b0",
   "metadata": {},
   "outputs": [
    {
     "data": {
      "text/plain": [
       "0     19\n",
       "1     12\n",
       "5     15\n",
       "6     10\n",
       "7     11\n",
       "8      7\n",
       "9      8\n",
       "16    20\n",
       "17     0\n",
       "18    15\n",
       "Name: hour_s, dtype: int64"
      ]
     },
     "execution_count": 49,
     "metadata": {},
     "output_type": "execute_result"
    }
   ],
   "source": [
    "Da_mem['hour_s'].head(10)"
   ]
  },
  {
   "cell_type": "code",
   "execution_count": 51,
   "id": "c090092f",
   "metadata": {},
   "outputs": [
    {
     "data": {
      "text/plain": [
       "hour_s\n",
       "0      25237\n",
       "1      16362\n",
       "2       8976\n",
       "3       5104\n",
       "4       5996\n",
       "5      25571\n",
       "6      71635\n",
       "7     130376\n",
       "8     149617\n",
       "9     108236\n",
       "10    105441\n",
       "11    126945\n",
       "12    147007\n",
       "13    144179\n",
       "14    142083\n",
       "15    165068\n",
       "16    216681\n",
       "17    273665\n",
       "18    228363\n",
       "19    161177\n",
       "20    106333\n",
       "21     77272\n",
       "22     58572\n",
       "23     39955\n",
       "Name: ride_id, dtype: int64"
      ]
     },
     "execution_count": 51,
     "metadata": {},
     "output_type": "execute_result"
    }
   ],
   "source": [
    "Da_mem.groupby('hour_s')['ride_id'].nunique()"
   ]
  },
  {
   "cell_type": "code",
   "execution_count": 52,
   "id": "86278c71",
   "metadata": {},
   "outputs": [
    {
     "name": "stderr",
     "output_type": "stream",
     "text": [
      "C:\\Users\\JINXIN~1\\AppData\\Local\\Temp/ipykernel_42816/708304866.py:1: SettingWithCopyWarning: \n",
      "A value is trying to be set on a copy of a slice from a DataFrame.\n",
      "Try using .loc[row_indexer,col_indexer] = value instead\n",
      "\n",
      "See the caveats in the documentation: https://pandas.pydata.org/pandas-docs/stable/user_guide/indexing.html#returning-a-view-versus-a-copy\n",
      "  Da_cau['hour_s'] = Da_cau['started_at'].dt.hour\n"
     ]
    },
    {
     "data": {
      "text/plain": [
       "hour_s\n",
       "0      42321\n",
       "1      30667\n",
       "2      19580\n",
       "3      10221\n",
       "4       6688\n",
       "5       8823\n",
       "6      19406\n",
       "7      36024\n",
       "8      49678\n",
       "9      60887\n",
       "10     85326\n",
       "11    112443\n",
       "12    133425\n",
       "13    142254\n",
       "14    146231\n",
       "15    153289\n",
       "16    167972\n",
       "17    195962\n",
       "18    176260\n",
       "19    135034\n",
       "20     97975\n",
       "21     82711\n",
       "22     76419\n",
       "23     58739\n",
       "Name: ride_id, dtype: int64"
      ]
     },
     "execution_count": 52,
     "metadata": {},
     "output_type": "execute_result"
    }
   ],
   "source": [
    "Da_cau['hour_s'] = Da_cau['started_at'].dt.hour\n",
    "Da_cau.groupby('hour_s')['ride_id'].nunique()"
   ]
  },
  {
   "cell_type": "code",
   "execution_count": 54,
   "id": "a751ecae",
   "metadata": {},
   "outputs": [
    {
     "data": {
      "text/plain": [
       "2048335"
      ]
     },
     "execution_count": 54,
     "metadata": {},
     "output_type": "execute_result"
    }
   ],
   "source": [
    "Da_cau['ride_id'].count()"
   ]
  },
  {
   "cell_type": "code",
   "execution_count": 55,
   "id": "e5775e26",
   "metadata": {},
   "outputs": [
    {
     "data": {
      "text/plain": [
       "2539851"
      ]
     },
     "execution_count": 55,
     "metadata": {},
     "output_type": "execute_result"
    }
   ],
   "source": [
    "Da_mem['ride_id'].count()"
   ]
  },
  {
   "cell_type": "code",
   "execution_count": 59,
   "id": "e840495a",
   "metadata": {},
   "outputs": [],
   "source": [
    "Da_mem_st = Da_mem.groupby(['start_station_name'])['start_station_name'].value_counts()"
   ]
  },
  {
   "cell_type": "code",
   "execution_count": 63,
   "id": "9c1291ad",
   "metadata": {},
   "outputs": [
    {
     "data": {
      "text/plain": [
       "start_station_name            start_station_name          \n",
       "Clark St & Elm St             Clark St & Elm St               23900\n",
       "Wells St & Concord Ln         Wells St & Concord Ln           22761\n",
       "Kingsbury St & Kinzie St      Kingsbury St & Kinzie St        22670\n",
       "Wells St & Elm St             Wells St & Elm St               20245\n",
       "Dearborn St & Erie St         Dearborn St & Erie St           18658\n",
       "St. Clair St & Erie St        St. Clair St & Erie St          18292\n",
       "Wells St & Huron St           Wells St & Huron St             18239\n",
       "Broadway & Barry Ave          Broadway & Barry Ave            16955\n",
       "Clinton St & Madison St       Clinton St & Madison St         16425\n",
       "Desplaines St & Kinzie St     Desplaines St & Kinzie St       16111\n",
       "Clark St & Armitage Ave       Clark St & Armitage Ave         16083\n",
       "Wabash Ave & Grand Ave        Wabash Ave & Grand Ave          15888\n",
       "Streeter Dr & Grand Ave       Streeter Dr & Grand Ave         15869\n",
       "Clark St & Lincoln Ave        Clark St & Lincoln Ave          15725\n",
       "Green St & Madison St         Green St & Madison St           15343\n",
       "Theater on the Lake           Theater on the Lake             15181\n",
       "Clinton St & Washington Blvd  Clinton St & Washington Blvd    14752\n",
       "Wells St & Hubbard St         Wells St & Hubbard St           14512\n",
       "Wilton Ave & Belmont Ave      Wilton Ave & Belmont Ave        14196\n",
       "Michigan Ave & Oak St         Michigan Ave & Oak St           14108\n",
       "Name: start_station_name, dtype: int64"
      ]
     },
     "execution_count": 63,
     "metadata": {},
     "output_type": "execute_result"
    }
   ],
   "source": [
    "Da_mem_st.sort_values(ascending= False).head(20)"
   ]
  },
  {
   "cell_type": "code",
   "execution_count": 64,
   "id": "13a3b7d0",
   "metadata": {},
   "outputs": [],
   "source": [
    "Da_cau_st = Da_cau.groupby(['start_station_name'])['start_station_name'].value_counts()"
   ]
  },
  {
   "cell_type": "code",
   "execution_count": 65,
   "id": "b8bd2267",
   "metadata": {},
   "outputs": [
    {
     "data": {
      "text/plain": [
       "start_station_name                  start_station_name                \n",
       "Streeter Dr & Grand Ave             Streeter Dr & Grand Ave               64449\n",
       "Millennium Park                     Millennium Park                       32185\n",
       "Michigan Ave & Oak St               Michigan Ave & Oak St                 28661\n",
       "Shedd Aquarium                      Shedd Aquarium                        22545\n",
       "Theater on the Lake                 Theater on the Lake                   20620\n",
       "Lake Shore Dr & Monroe St           Lake Shore Dr & Monroe St             19085\n",
       "Wells St & Concord Ln               Wells St & Concord Ln                 18880\n",
       "Clark St & Lincoln Ave              Clark St & Lincoln Ave                16290\n",
       "Indiana Ave & Roosevelt Rd          Indiana Ave & Roosevelt Rd            15815\n",
       "Wells St & Elm St                   Wells St & Elm St                     15809\n",
       "DuSable Lake Shore Dr & Monroe St   DuSable Lake Shore Dr & Monroe St     15671\n",
       "Clark St & Elm St                   Clark St & Elm St                     15597\n",
       "Clark St & Armitage Ave             Clark St & Armitage Ave               15399\n",
       "Wabash Ave & Grand Ave              Wabash Ave & Grand Ave                15376\n",
       "New St & Illinois St                New St & Illinois St                  14709\n",
       "Dusable Harbor                      Dusable Harbor                        14698\n",
       "Lake Shore Dr & North Blvd          Lake Shore Dr & North Blvd            14380\n",
       "DuSable Lake Shore Dr & North Blvd  DuSable Lake Shore Dr & North Blvd    14304\n",
       "Michigan Ave & Lake St              Michigan Ave & Lake St                14003\n",
       "Michigan Ave & Washington St        Michigan Ave & Washington St          13677\n",
       "Name: start_station_name, dtype: int64"
      ]
     },
     "execution_count": 65,
     "metadata": {},
     "output_type": "execute_result"
    }
   ],
   "source": [
    "Da_cau_st.sort_values(ascending= False).head(20)"
   ]
  },
  {
   "cell_type": "code",
   "execution_count": 66,
   "id": "b3d90f65",
   "metadata": {},
   "outputs": [
    {
     "data": {
      "text/plain": [
       "end_station_name              end_station_name            \n",
       "Clark St & Elm St             Clark St & Elm St               23971\n",
       "Wells St & Concord Ln         Wells St & Concord Ln           23408\n",
       "Kingsbury St & Kinzie St      Kingsbury St & Kinzie St        22855\n",
       "Wells St & Elm St             Wells St & Elm St               20799\n",
       "Dearborn St & Erie St         Dearborn St & Erie St           19317\n",
       "St. Clair St & Erie St        St. Clair St & Erie St          18118\n",
       "Wells St & Huron St           Wells St & Huron St             17902\n",
       "Broadway & Barry Ave          Broadway & Barry Ave            17538\n",
       "Clinton St & Madison St       Clinton St & Madison St         16779\n",
       "Green St & Madison St         Green St & Madison St           16287\n",
       "Clark St & Armitage Ave       Clark St & Armitage Ave         15645\n",
       "Clark St & Lincoln Ave        Clark St & Lincoln Ave          15464\n",
       "Wabash Ave & Grand Ave        Wabash Ave & Grand Ave          15338\n",
       "Clinton St & Washington Blvd  Clinton St & Washington Blvd    14996\n",
       "Desplaines St & Kinzie St     Desplaines St & Kinzie St       14919\n",
       "Wilton Ave & Belmont Ave      Wilton Ave & Belmont Ave        14531\n",
       "Wells St & Hubbard St         Wells St & Hubbard St           14475\n",
       "Larrabee St & Webster Ave     Larrabee St & Webster Ave       14455\n",
       "Streeter Dr & Grand Ave       Streeter Dr & Grand Ave         14274\n",
       "Dearborn Pkwy & Delaware Pl   Dearborn Pkwy & Delaware Pl     14023\n",
       "Name: end_station_name, dtype: int64"
      ]
     },
     "execution_count": 66,
     "metadata": {},
     "output_type": "execute_result"
    }
   ],
   "source": [
    "Da_mem_end = Da_mem.groupby(['end_station_name'])['end_station_name'].value_counts()\n",
    "Da_mem_end.sort_values(ascending= False).head(20)"
   ]
  },
  {
   "cell_type": "code",
   "execution_count": 67,
   "id": "aaed4d56",
   "metadata": {},
   "outputs": [
    {
     "data": {
      "text/plain": [
       "end_station_name                    end_station_name                  \n",
       "Streeter Dr & Grand Ave             Streeter Dr & Grand Ave               67527\n",
       "Millennium Park                     Millennium Park                       33744\n",
       "Michigan Ave & Oak St               Michigan Ave & Oak St                 30364\n",
       "Theater on the Lake                 Theater on the Lake                   22307\n",
       "Shedd Aquarium                      Shedd Aquarium                        21159\n",
       "Wells St & Concord Ln               Wells St & Concord Ln                 18619\n",
       "Lake Shore Dr & Monroe St           Lake Shore Dr & Monroe St             17932\n",
       "Lake Shore Dr & North Blvd          Lake Shore Dr & North Blvd            17072\n",
       "DuSable Lake Shore Dr & North Blvd  DuSable Lake Shore Dr & North Blvd    16653\n",
       "Wabash Ave & Grand Ave              Wabash Ave & Grand Ave                16575\n",
       "Clark St & Lincoln Ave              Clark St & Lincoln Ave                16544\n",
       "Indiana Ave & Roosevelt Rd          Indiana Ave & Roosevelt Rd            15806\n",
       "Clark St & Armitage Ave             Clark St & Armitage Ave               15402\n",
       "Wells St & Elm St                   Wells St & Elm St                     15095\n",
       "Clark St & Elm St                   Clark St & Elm St                     14962\n",
       "DuSable Lake Shore Dr & Monroe St   DuSable Lake Shore Dr & Monroe St     14524\n",
       "Michigan Ave & Lake St              Michigan Ave & Lake St                13936\n",
       "New St & Illinois St                New St & Illinois St                  13925\n",
       "Michigan Ave & Washington St        Michigan Ave & Washington St          13437\n",
       "Fairbanks Ct & Grand Ave            Fairbanks Ct & Grand Ave              13397\n",
       "Name: end_station_name, dtype: int64"
      ]
     },
     "execution_count": 67,
     "metadata": {},
     "output_type": "execute_result"
    }
   ],
   "source": [
    "Da_cau_end = Da_cau.groupby(['end_station_name'])['end_station_name'].value_counts()\n",
    "Da_cau_end.sort_values(ascending= False).head(20)"
   ]
  },
  {
   "cell_type": "code",
   "execution_count": 68,
   "id": "f80ac3cd",
   "metadata": {},
   "outputs": [
    {
     "name": "stdout",
     "output_type": "stream",
     "text": [
      "<class 'pandas.core.frame.DataFrame'>\n",
      "Int64Index: 2539851 entries, 0 to 4588185\n",
      "Data columns (total 19 columns):\n",
      " #   Column              Dtype          \n",
      "---  ------              -----          \n",
      " 0   Unnamed: 0          int64          \n",
      " 1   Unnamed: 1          int64          \n",
      " 2   ride_id             object         \n",
      " 3   rideable_type       object         \n",
      " 4   started_at          datetime64[ns] \n",
      " 5   ended_at            datetime64[ns] \n",
      " 6   start_station_name  object         \n",
      " 7   start_station_id    object         \n",
      " 8   end_station_name    object         \n",
      " 9   end_station_id      object         \n",
      " 10  start_lat           float64        \n",
      " 11  start_lng           float64        \n",
      " 12  end_lat             float64        \n",
      " 13  end_lng             float64        \n",
      " 14  member_casual       object         \n",
      " 15  year_s              int64          \n",
      " 16  mon_s               int64          \n",
      " 17  time_use            timedelta64[ns]\n",
      " 18  hour_s              int64          \n",
      "dtypes: datetime64[ns](2), float64(4), int64(5), object(7), timedelta64[ns](1)\n",
      "memory usage: 387.6+ MB\n"
     ]
    }
   ],
   "source": [
    "Da_mem.info()"
   ]
  },
  {
   "cell_type": "code",
   "execution_count": 77,
   "id": "c1ffac2d",
   "metadata": {},
   "outputs": [
    {
     "name": "stderr",
     "output_type": "stream",
     "text": [
      "C:\\Users\\JINXIN~1\\AppData\\Local\\Temp/ipykernel_42816/182612486.py:1: SettingWithCopyWarning: \n",
      "A value is trying to be set on a copy of a slice from a DataFrame.\n",
      "Try using .loc[row_indexer,col_indexer] = value instead\n",
      "\n",
      "See the caveats in the documentation: https://pandas.pydata.org/pandas-docs/stable/user_guide/indexing.html#returning-a-view-versus-a-copy\n",
      "  Da_mem['weekday'] = Da_mem['started_at'].dt.weekday\n"
     ]
    }
   ],
   "source": [
    "Da_mem['weekday'] = Da_mem['started_at'].dt.weekday"
   ]
  },
  {
   "cell_type": "code",
   "execution_count": 78,
   "id": "16fe7664",
   "metadata": {},
   "outputs": [
    {
     "data": {
      "text/plain": [
       "0     6\n",
       "1     5\n",
       "5     4\n",
       "6     1\n",
       "7     5\n",
       "8     2\n",
       "9     4\n",
       "16    3\n",
       "17    5\n",
       "18    6\n",
       "19    0\n",
       "20    0\n",
       "21    3\n",
       "22    3\n",
       "23    2\n",
       "25    2\n",
       "26    6\n",
       "27    0\n",
       "28    6\n",
       "29    5\n",
       "Name: weekday, dtype: int64"
      ]
     },
     "execution_count": 78,
     "metadata": {},
     "output_type": "execute_result"
    }
   ],
   "source": [
    "Da_mem['weekday'].head(20)"
   ]
  },
  {
   "cell_type": "code",
   "execution_count": 71,
   "id": "b947372a",
   "metadata": {},
   "outputs": [
    {
     "data": {
      "text/plain": [
       "weekday\n",
       "0    346481\n",
       "1    388131\n",
       "2    397688\n",
       "3    373471\n",
       "4    365782\n",
       "5    357078\n",
       "6    311220\n",
       "Name: ride_id, dtype: int64"
      ]
     },
     "execution_count": 71,
     "metadata": {},
     "output_type": "execute_result"
    }
   ],
   "source": [
    "Da_mem.groupby('weekday')['ride_id'].count()"
   ]
  },
  {
   "cell_type": "code",
   "execution_count": 79,
   "id": "c35c6f77",
   "metadata": {},
   "outputs": [
    {
     "name": "stderr",
     "output_type": "stream",
     "text": [
      "C:\\Users\\JINXIN~1\\AppData\\Local\\Temp/ipykernel_42816/3422070945.py:1: SettingWithCopyWarning: \n",
      "A value is trying to be set on a copy of a slice from a DataFrame.\n",
      "Try using .loc[row_indexer,col_indexer] = value instead\n",
      "\n",
      "See the caveats in the documentation: https://pandas.pydata.org/pandas-docs/stable/user_guide/indexing.html#returning-a-view-versus-a-copy\n",
      "  Da_cau['weekday'] = Da_cau['started_at'].dt.weekday\n"
     ]
    },
    {
     "data": {
      "text/plain": [
       "weekday\n",
       "0    228934\n",
       "1    214935\n",
       "2    218132\n",
       "3    224207\n",
       "4    290040\n",
       "5    468325\n",
       "6    403762\n",
       "Name: ride_id, dtype: int64"
      ]
     },
     "execution_count": 79,
     "metadata": {},
     "output_type": "execute_result"
    }
   ],
   "source": [
    "Da_cau['weekday'] = Da_cau['started_at'].dt.weekday\n",
    "Da_cau.groupby('weekday')['ride_id'].count()"
   ]
  },
  {
   "cell_type": "code",
   "execution_count": null,
   "id": "248f63d5",
   "metadata": {},
   "outputs": [],
   "source": []
  }
 ],
 "metadata": {
  "kernelspec": {
   "display_name": "Python 3 (ipykernel)",
   "language": "python",
   "name": "python3"
  },
  "language_info": {
   "codemirror_mode": {
    "name": "ipython",
    "version": 3
   },
   "file_extension": ".py",
   "mimetype": "text/x-python",
   "name": "python",
   "nbconvert_exporter": "python",
   "pygments_lexer": "ipython3",
   "version": "3.9.1"
  }
 },
 "nbformat": 4,
 "nbformat_minor": 5
}
